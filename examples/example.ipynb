{
 "cells": [
  {
   "cell_type": "code",
   "execution_count": 7,
   "metadata": {
    "pycharm": {
     "name": "#%%\n"
    }
   },
   "outputs": [
    {
     "ename": "ModuleNotFoundError",
     "evalue": "No module named 'raderr'",
     "output_type": "error",
     "traceback": [
      "\u001b[1;31m---------------------------------------------------------------------------\u001b[0m",
      "\u001b[1;31mModuleNotFoundError\u001b[0m                       Traceback (most recent call last)",
      "Cell \u001b[1;32mIn[7], line 3\u001b[0m\n\u001b[0;32m      1\u001b[0m \u001b[38;5;66;03m#from raderr import raderr\u001b[39;00m\n\u001b[0;32m      2\u001b[0m \u001b[38;5;28;01mfrom\u001b[39;00m \u001b[38;5;21;01mwradlib\u001b[39;00m \u001b[38;5;28;01mimport\u001b[39;00m atten\n\u001b[1;32m----> 3\u001b[0m \u001b[38;5;28;01mimport\u001b[39;00m \u001b[38;5;21;01mraderr\u001b[39;00m\n",
      "\u001b[1;31mModuleNotFoundError\u001b[0m: No module named 'raderr'"
     ]
    }
   ],
   "source": [
    "from raderr import raderr\n",
    "import atten_rain as atten"
   ]
  },
  {
   "cell_type": "code",
   "execution_count": 6,
   "metadata": {
    "collapsed": false,
    "jupyter": {
     "outputs_hidden": false
    },
    "pycharm": {
     "name": "#%%\n"
    }
   },
   "outputs": [],
   "source": [
    "radar_config = {\n",
    "    \"bin_width\" : 0.6,\n",
    "    \"bin_start\" : 0.425,\n",
    "    \"n_thetas\" : 360,\n",
    "    \"range\" : 100,\n",
    "    \"height\" : 0.191, \n",
    "    \"bng_coords\" : (433873, 545572),\n",
    "    \"latlon_coords\" : (54.803883, -1.4745786),\n",
    "}\n",
    "\n",
    "cloud_config ={\n",
    "    \"ground\" : 0,\n",
    "    \"cloud_base\" : 1,\n",
    "    \"bright_band\" : 4,\n",
    "    \"cloud_top\" : 10\n",
    "} \n",
    "\n",
    "vertical_vario = {\n",
    "    \"nugget\" : 0.005,\n",
    "    \"sill\" : 0.05,\n",
    "    \"range\" : 200, # equiv to 2 km\n",
    "    \"interval_size\" : 0.01 \n",
    "}\n",
    "\n",
    "noise = {\n",
    "    \"advected\" : False,\n",
    "    \"temporal\" : True,\n",
    "    \"mu\" : -5.3,\n",
    "    \"sigma\" : 1.7,\n",
    "    \"model\" : \"Exp\",\n",
    "    \"nugget\" : 0.35,\n",
    "    \"sill\" : 1,\n",
    "    \"range\" : 5\n",
    "}\n",
    "\n",
    "dsd_a = {\n",
    "    \"mu\" : 220,\n",
    "    \"sigma\" : 2,\n",
    "    \"range\" : 30,\n",
    "    \"model\" : \"Exp\"\n",
    "}\n",
    "\n",
    "dsd_b = {\n",
    "    \"mu\" : 1.6,\n",
    "    \"sigma\" : 0.02,\n",
    "    \"dist\" : \"norm\",\n",
    "    \"params\" : None \n",
    "}\n",
    "\n",
    "rain_atten = {\n",
    "    \"b_min\" : 1.17*0.5,\n",
    "    \"b_max\" : 1.17*1.5,\n",
    "    \"a_min\" : 0.0022*0.5,\n",
    "    \"a_max\" : 0.0022*1.5,\n",
    "    \"n_a\" : 10,\n",
    "    \"n_b\" : 6,\n",
    "    \"constraints\" : [atten.constraint_pia],\n",
    "    \"constraint_args\" : [[420.]]\n",
    "}\n",
    "\n",
    "ref_atten = {\n",
    "    \"b_min\" : 0.65*0.5,\n",
    "    \"b_max\" : 0.7*1.5,\n",
    "    \"a_min\" : 2.33e-5*0.5,\n",
    "    \"a_max\" : 1.67e-4*1.5,\n",
    "    \"n_a\" : 10,\n",
    "    \"n_b\" : 6,\n",
    "    \"constraints\" : [atten.constraint_pia],\n",
    "    \"constraint_args\" : [[65.]]\n",
    "}"
   ]
  },
  {
   "cell_type": "code",
   "execution_count": null,
   "metadata": {},
   "outputs": [],
   "source": [
    "file_path = \"sim_40731.hdf5\"\n",
    "test = SimRad(rainfall_path = file_path, \n",
    "              adv=(0, 0),\n",
    "              radar_config=radar_config, \n",
    "              cloud_config=cloud_config,\n",
    "              vertical_vario=vertical_vario,\n",
    "              noise=noise,\n",
    "              dsd_a=dsd_a,\n",
    "              dsd_b=dsd_b,\n",
    "              rain_atten=rain_atten,\n",
    "              ref_atten=ref_atten)\n",
    "\n",
    "test.simulate_ref()"
   ]
  }
 ],
 "metadata": {
  "kernelspec": {
   "display_name": "Python 3 (ipykernel)",
   "language": "python",
   "name": "python3"
  },
  "language_info": {
   "codemirror_mode": {
    "name": "ipython",
    "version": 3
   },
   "file_extension": ".py",
   "mimetype": "text/x-python",
   "name": "python",
   "nbconvert_exporter": "python",
   "pygments_lexer": "ipython3",
   "version": "3.12.3"
  }
 },
 "nbformat": 4,
 "nbformat_minor": 4
}
